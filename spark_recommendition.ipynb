{
 "cells": [
  {
   "cell_type": "code",
   "execution_count": 1,
   "metadata": {},
   "outputs": [],
   "source": [
    "import findspark\n",
    "findspark.init('/home/sak/spark-2.4.3-bin-hadoop2.7')\n",
    "\n",
    "import pyspark\n",
    "\n",
    "from pyspark import SparkContext, SparkConf\n",
    "\n",
    "conf = SparkConf().setAppName(\"sajad\").setMaster(\"local\")\n",
    "sc = SparkContext(conf=conf)\n"
   ]
  },
  {
   "cell_type": "code",
   "execution_count": 2,
   "metadata": {},
   "outputs": [],
   "source": [
    "from pyspark.sql import SparkSession\n",
    "\n",
    "spark = SparkSession \\\n",
    "    .builder \\\n",
    "    .appName(\"Python Spark SQL basic example\") \\\n",
    "    .config(\"spark.some.config.option\", \"some-value\") \\\n",
    "    .getOrCreate()"
   ]
  },
  {
   "cell_type": "code",
   "execution_count": 4,
   "metadata": {},
   "outputs": [],
   "source": [
    "from pyspark.ml.evaluation import RegressionEvaluator\n",
    "from pyspark.ml.recommendation import ALS\n",
    "from pyspark.sql import Row\n"
   ]
  },
  {
   "cell_type": "code",
   "execution_count": 5,
   "metadata": {},
   "outputs": [
    {
     "name": "stdout",
     "output_type": "stream",
     "text": [
      "Root-mean-square error = 1.6638709815338888\n",
      "+------+--------------------+\n",
      "|userId|     recommendations|\n",
      "+------+--------------------+\n",
      "|    28|[[34, 6.2745895],...|\n",
      "|    26|[[94, 5.3556576],...|\n",
      "|    27|[[32, 4.5518517],...|\n",
      "|    12|[[19, 5.7531867],...|\n",
      "|    22|[[44, 5.652228], ...|\n",
      "|     1|[[52, 4.6947684],...|\n",
      "|    13|[[93, 3.8497524],...|\n",
      "|     6|[[25, 4.4996967],...|\n",
      "|    16|[[51, 4.749304], ...|\n",
      "|     3|[[62, 5.261743], ...|\n",
      "|    20|[[90, 6.108018], ...|\n",
      "|     5|[[55, 4.80991], [...|\n",
      "|    19|[[32, 3.8459191],...|\n",
      "|    15|[[46, 4.9723687],...|\n",
      "|    17|[[46, 5.135776], ...|\n",
      "|     9|[[49, 5.1126733],...|\n",
      "|     4|[[52, 3.8264365],...|\n",
      "|     8|[[52, 5.0733185],...|\n",
      "|    23|[[90, 6.6885557],...|\n",
      "|     7|[[25, 5.151322], ...|\n",
      "+------+--------------------+\n",
      "only showing top 20 rows\n",
      "\n",
      "+-------+--------------------+\n",
      "|movieId|     recommendations|\n",
      "+-------+--------------------+\n",
      "|     31|[[12, 3.7749054],...|\n",
      "|     85|[[8, 4.8402247], ...|\n",
      "|     65|[[23, 4.866437], ...|\n",
      "|     53|[[8, 4.883639], [...|\n",
      "|     78|[[23, 1.4780338],...|\n",
      "|     34|[[28, 6.2745895],...|\n",
      "|     81|[[28, 4.8189664],...|\n",
      "|     28|[[18, 5.008406], ...|\n",
      "|     76|[[14, 4.9252243],...|\n",
      "|     26|[[26, 4.680863], ...|\n",
      "|     27|[[11, 5.1526017],...|\n",
      "|     44|[[22, 5.652228], ...|\n",
      "|     12|[[28, 4.7525043],...|\n",
      "|     91|[[28, 5.519838], ...|\n",
      "|     22|[[22, 4.2934175],...|\n",
      "|     93|[[2, 5.158542], [...|\n",
      "|     47|[[10, 4.1678576],...|\n",
      "|      1|[[11, 4.5958223],...|\n",
      "|     52|[[8, 5.0733185], ...|\n",
      "|     13|[[23, 3.8065495],...|\n",
      "+-------+--------------------+\n",
      "only showing top 20 rows\n",
      "\n",
      "+------+--------------------+\n",
      "|userId|     recommendations|\n",
      "+------+--------------------+\n",
      "|    26|[[94, 5.3556576],...|\n",
      "|    19|[[32, 3.8459191],...|\n",
      "|    29|[[46, 4.9788456],...|\n",
      "+------+--------------------+\n",
      "\n",
      "+-------+--------------------+\n",
      "|movieId|     recommendations|\n",
      "+-------+--------------------+\n",
      "|     65|[[23, 4.866437], ...|\n",
      "|     26|[[26, 4.680863], ...|\n",
      "|     29|[[14, 5.337469], ...|\n",
      "+-------+--------------------+\n",
      "\n"
     ]
    }
   ],
   "source": [
    "lines = spark.read.text(\"sample_movielens_ratings.txt\").rdd\n",
    "parts = lines.map(lambda row: row.value.split(\"::\"))\n",
    "ratingsRDD = parts.map(lambda p: Row(userId=int(p[0]), movieId=int(p[1]),rating=float(p[2]), timestamp=int(p[3])))\n",
    "ratings = spark.createDataFrame(ratingsRDD)\n",
    "(training, test) = ratings.randomSplit([0.8, 0.2])\n",
    "\n",
    "# Build the recommendation model using ALS on the training data\n",
    "# Note we set cold start strategy to 'drop' to ensure we don't get NaN evaluation metrics\n",
    "als = ALS(maxIter=5, regParam=0.01, userCol=\"userId\", itemCol=\"movieId\", ratingCol=\"rating\",coldStartStrategy=\"drop\")\n",
    "model = als.fit(training)\n",
    "\n",
    "# Evaluate the model by computing the RMSE on the test data\n",
    "predictions = model.transform(test)\n",
    "evaluator = RegressionEvaluator(metricName=\"rmse\", labelCol=\"rating\",predictionCol=\"prediction\")\n",
    "rmse = evaluator.evaluate(predictions)\n",
    "print(\"Root-mean-square error = \" + str(rmse))\n",
    "\n",
    "# Generate top 10 movie recommendations for each user\n",
    "userRecs = model.recommendForAllUsers(10)\n",
    "# Generate top 10 user recommendations for each movie\n",
    "movieRecs = model.recommendForAllItems(10)\n",
    "\n",
    "# Generate top 10 movie recommendations for a specified set of users\n",
    "users = ratings.select(als.getUserCol()).distinct().limit(3)\n",
    "userSubsetRecs = model.recommendForUserSubset(users, 10)\n",
    "# Generate top 10 user recommendations for a specified set of movies\n",
    "movies = ratings.select(als.getItemCol()).distinct().limit(3)\n",
    "movieSubSetRecs = model.recommendForItemSubset(movies, 10)\n",
    "# $example off$\n",
    "userRecs.show()\n",
    "movieRecs.show()\n",
    "userSubsetRecs.show()\n",
    "movieSubSetRecs.show()\n",
    "\n",
    "    "
   ]
  },
  {
   "cell_type": "code",
   "execution_count": null,
   "metadata": {},
   "outputs": [],
   "source": []
  },
  {
   "cell_type": "code",
   "execution_count": null,
   "metadata": {},
   "outputs": [],
   "source": []
  },
  {
   "cell_type": "code",
   "execution_count": null,
   "metadata": {},
   "outputs": [],
   "source": []
  },
  {
   "cell_type": "code",
   "execution_count": null,
   "metadata": {},
   "outputs": [],
   "source": []
  },
  {
   "cell_type": "code",
   "execution_count": null,
   "metadata": {},
   "outputs": [],
   "source": []
  }
 ],
 "metadata": {
  "kernelspec": {
   "display_name": "Python 3",
   "language": "python",
   "name": "python3"
  },
  "language_info": {
   "codemirror_mode": {
    "name": "ipython",
    "version": 3
   },
   "file_extension": ".py",
   "mimetype": "text/x-python",
   "name": "python",
   "nbconvert_exporter": "python",
   "pygments_lexer": "ipython3",
   "version": "3.7.3"
  }
 },
 "nbformat": 4,
 "nbformat_minor": 2
}
